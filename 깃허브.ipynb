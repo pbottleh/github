{
  "nbformat": 4,
  "nbformat_minor": 0,
  "metadata": {
    "colab": {
      "name": "깃허브.ipynb",
      "provenance": [],
      "authorship_tag": "ABX9TyPG3cKMV77mQf8m0BD2CF8U",
      "include_colab_link": true
    },
    "kernelspec": {
      "name": "python3",
      "display_name": "Python 3"
    },
    "language_info": {
      "name": "python"
    }
  },
  "cells": [
    {
      "cell_type": "markdown",
      "metadata": {
        "id": "view-in-github",
        "colab_type": "text"
      },
      "source": [
        "<a href=\"https://colab.research.google.com/github/pbottleh/github/blob/main/%EA%B9%83%ED%97%88%EB%B8%8C.ipynb\" target=\"_parent\"><img src=\"https://colab.research.google.com/assets/colab-badge.svg\" alt=\"Open In Colab\"/></a>"
      ]
    },
    {
      "cell_type": "markdown",
      "source": [
        "\n",
        "* 저장소(Repository): 내가 Git 으로 관리할 폴더(디렉터리)이다\n",
        "* 커밋(Commit): Git에서 버전을 기록하는 단위이다\n",
        "* 커밋한다: Git에 하나의 버전을 기록한다\n",
        "* 로컬(Local): 네트워크 없이 접속 가능한 것\n",
        "* 로컬 컴퓨터 = 내가 바로 사용하고 있는 컴퓨터라고 할 수 있다\n",
        "* 원격(Remote): 네트워크를 접속해서 사용해야 하는 것\n",
        "* 클라우드(Google Drive 같은 것): Git 저장소를 올려서 공유하는 곳이다 (ex) GitHub, Bitbucket\n",
        "* 푸시(Push): 로컬에 있는 저장소를 인터넷(Remote)에 올리는 것, 푸시를 하면 .git 폴더를 포함해서 나의 모든 파일과 변경 과정(커밋)들을 업로드 한다\n",
        "* 복제(Clone): 인터넷에 있는(원격) 저장소를 로컬에 다운 받는 것"
      ],
      "metadata": {
        "id": "NFJtyMMoR0Qk"
      }
    },
    {
      "cell_type": "markdown",
      "source": [
        ""
      ],
      "metadata": {
        "id": "PivYFFlWR2QO"
      }
    },
    {
      "cell_type": "code",
      "source": [
        "'''\n",
        "! git init\n",
        "\n",
        "!git config user.name \"pbottleh\"\n",
        "!git config user.email \"bh15love@naver.com\"\n",
        "\n",
        "# add 로 git에 파일을 추가한다는 의미, .은 모든 파일 다 올린다는 뜻\n",
        "! git add .\n",
        "\n",
        "! git status\n",
        "\n",
        "! git commit -m \"first commit\"\n",
        "\n",
        "#연결고리 생성\n",
        "!git remote add origin https://github.com/pbottleh/regression-analysis.git\n",
        "\n",
        "#연결고리 확인\n",
        "! git remote -v\n",
        "\n",
        "#보내기\n",
        "#!git push origin master\n",
        "'''\n"
      ],
      "metadata": {
        "id": "swmCGk_oT3s9"
      },
      "execution_count": null,
      "outputs": []
    }
  ]
}